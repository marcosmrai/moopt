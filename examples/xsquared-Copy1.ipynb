{
 "cells": [
  {
   "cell_type": "code",
   "execution_count": 1,
   "metadata": {},
   "outputs": [],
   "source": [
    "#%matplotlib plot\n",
    "#%matplotlib notebook\n",
    "%matplotlib inline"
   ]
  },
  {
   "cell_type": "code",
   "execution_count": 2,
   "metadata": {},
   "outputs": [],
   "source": [
    "import numpy as np\n",
    "import logging\n",
    "import sys\n",
    "\n",
    "import matplotlib.pyplot as plt\n",
    "from mpl_toolkits.mplot3d import Axes3D\n",
    "\n",
    "from moopt import nise, monise, nc, pgen, rennen, xnise, random_weights, esse, esse_enum\n",
    "\n",
    "logging.disable(logging.NOTSET)\n",
    "logger = logging.getLogger()\n",
    "logger.setLevel(level=logging.INFO)"
   ]
  },
  {
   "cell_type": "code",
   "execution_count": 3,
   "metadata": {},
   "outputs": [],
   "source": [
    "def run(d, wscalar_, sscalar_, bscalar_, algorithm='monise'):    \n",
    "    if algorithm=='monise':\n",
    "        moo_ = monise(weightedScalar=wscalar_, singleScalar=sscalar_,\n",
    "                      nodeTimeLimit=2,\n",
    "                      targetSize=solsize, targetGap=0, nodeGap=0.01, norm=True)\n",
    "    if algorithm=='nise':\n",
    "        moo_ = nise(weightedScalar=wscalar_, singleScalar=sscalar_,\n",
    "                    targetSize=solsize, norm=True, objective='hp')\n",
    "    elif algorithm=='random':\n",
    "        moo_ = random_weights(weightedScalar=wscalar_, singleScalar=sscalar_,\n",
    "                              targetSize=solsize)\n",
    "    elif algorithm=='pgen':\n",
    "        moo_ = pgen(weightedScalar=wscalar_, singleScalar=sscalar_,\n",
    "                targetSize=solsize, norm=True)\n",
    "    elif algorithm=='xnise':\n",
    "        moo_ = xnise(weightedScalar=wscalar_, singleScalar=sscalar_,\n",
    "                 targetSize=solsize, norm=True)\n",
    "    elif algorithm=='rennen':\n",
    "        moo_ = rennen(weightedScalar=wscalar_, singleScalar=sscalar_,\n",
    "                      targetSize=solsize, norm=True)\n",
    "    elif algorithm=='esse':\n",
    "        moo_ = esse(boxScalar=bscalar_, singleScalar=sscalar_, enum=False,\n",
    "                      targetSize=solsize)\n",
    "    elif algorithm=='esse_enum':\n",
    "        moo_ = esse_enum(boxScalar=bscalar_, singleScalar=sscalar_,\n",
    "                      targetSize=solsize)\n",
    "    elif algorithm=='esse_enum2':\n",
    "        moo_ = esse(boxScalar=bscalar_, singleScalar=sscalar_, enum=True,\n",
    "                      targetSize=solsize)\n",
    "    \n",
    "    moo_.optimize()\n",
    "    objs = np.array([s.objs for s in moo_.solutionsList])\n",
    "    \n",
    "    return objs"
   ]
  },
  {
   "cell_type": "markdown",
   "metadata": {},
   "source": [
    "## Defining the problem\n",
    "\n",
    "### $\\min w^\\top(x-d)^2\\\\s.a. \\sum_{i=1}^m x_i = 1\\\\  x_i\\geq0\\ \\forall i \\in \\{1,\\ldots,m\\}$"
   ]
  },
  {
   "cell_type": "code",
   "execution_count": 4,
   "metadata": {},
   "outputs": [],
   "source": [
    "import scipy.optimize as opt\n",
    "from moopt.scalarization_interface import scalar_interface, single_interface, w_interface, box_interface\n",
    "\n",
    "class xsquared(w_interface, single_interface, scalar_interface):\n",
    "    def __init__(self, d, s):\n",
    "        self.__M = d.size\n",
    "        self.d = d\n",
    "        self.s = s\n",
    "        self.bounds = [(0, np.random.rand()+1*i+1) for i in range(self.M)]\n",
    "\n",
    "    @property\n",
    "    def M(self):\n",
    "        return self.__M\n",
    "\n",
    "    @property\n",
    "    def feasible(self):\n",
    "        return True\n",
    "\n",
    "    @property\n",
    "    def optimum(self):\n",
    "        return True\n",
    "\n",
    "    @property\n",
    "    def objs(self):\n",
    "        return self.__objs\n",
    "\n",
    "    @property\n",
    "    def x(self):\n",
    "        return self.__x\n",
    "\n",
    "    @property\n",
    "    def w(self):\n",
    "        return self.__w\n",
    "\n",
    "    def optimize(self, w, u=None):\n",
    "        \"\"\"Calculates the a multiobjective scalarization\"\"\"\n",
    "        if type(w)==int:\n",
    "            self.__w = np.zeros(self.M)\n",
    "            self.__w[w] = 1\n",
    "        elif type(w)==np.ndarray and w.ndim==1 and w.size==self.M:\n",
    "            self.__w = w\n",
    "        else:\n",
    "            raise('w is in the wrong format')\n",
    "\n",
    "\n",
    "        constraints = [{'type': 'eq', 'fun': lambda x: sum(x)-1, 'jac': lambda x: np.ones(self.M)}]\n",
    "\n",
    "        def fg(i):\n",
    "            m = np.zeros(self.M)\n",
    "            m[i] = 1\n",
    "            return lambda x: u[i]-(x[i]-self.d[i])**2, lambda x: -m*(x-self.d)\n",
    "\n",
    "        if not u is None:\n",
    "            for i in range(self.M):\n",
    "                fc, gc = fg(i)\n",
    "                constraints+=[{'type': 'ineq', 'fun': fc, 'jac': gc}]\n",
    "\n",
    "        f = lambda x: self.__w@(self.s*x-self.s*self.d)**2\n",
    "        grad = lambda x: self.__w*(self.s*x-self.s*self.d)\n",
    "\n",
    "        out = opt.minimize(f, np.ones(self.M)/self.M, jac=grad, bounds=self.bounds,\n",
    "                           constraints=constraints)\n",
    "\n",
    "        self.__x = out.x\n",
    "        self.__objs = (self.s*self.x-self.s*self.d)**2\n",
    "        \n",
    "        \n",
    "class xsquared_ps(xsquared, box_interface):\n",
    "    @property\n",
    "    def objs(self):\n",
    "        return self.__objs\n",
    "    \n",
    "    @property\n",
    "    def u(self):\n",
    "        return self.__u\n",
    "\n",
    "    @property\n",
    "    def l(self):\n",
    "        return self.__l\n",
    "\n",
    "    @property\n",
    "    def c(self):\n",
    "        return self.__c\n",
    "    \n",
    "    @property\n",
    "    def alpha(self):\n",
    "        return self.__alpha\n",
    "    \n",
    "    def optimize(self, l, u, solutionsList=None):\n",
    "        objs = lambda x: (self.s*x[:-1]-self.s*self.d)**2\n",
    "        f = lambda x: x[-1]\n",
    "            \n",
    "        constraints = [{'type': 'eq', 'fun': lambda x: sum(x[:-1])-1}]\n",
    "\n",
    "        def fg(i):\n",
    "            return lambda x: (l[i]+x[-1]*(u[i] - l[i]))-objs(x)[i]\n",
    "\n",
    "        for i in range(self.M):\n",
    "            fc = fg(i)\n",
    "            constraints+=[{'type': 'ineq', 'fun': fc}]\n",
    "        \n",
    "        x0 = np.ones(self.M+1)/self.M\n",
    "        #print(objs(x0))\n",
    "        #print(f(x0))\n",
    "        #for c in constraints:\n",
    "        #    print('a')\n",
    "        #    print(c['fun'](x0))\n",
    "        out = opt.minimize(f, x0, bounds=self.bounds+[(0, 1)],\n",
    "                           constraints=constraints)\n",
    "\n",
    "        self.__x = out.x[:-1]\n",
    "        self.__objs = objs(out.x)\n",
    "        \n",
    "        self.__alpha = out.x[-1]\n",
    "        \n",
    "        #print(self.alpha)\n",
    "        \n",
    "        self.__u = u\n",
    "        self.__l = l\n",
    "        self.__c = self.l+self.alpha*(self.u-self.l)\n",
    "        \n",
    "        #print(self.u)\n",
    "        #print(self.l)\n",
    "        #print(self.c)"
   ]
  },
  {
   "cell_type": "markdown",
   "metadata": {},
   "source": [
    "The class xsquared implement the defined problem following the rules imposed by the interfaces in moopt/scalarization_interfaces.py."
   ]
  },
  {
   "cell_type": "markdown",
   "metadata": {},
   "source": [
    "## Example of the problem with two dimensions"
   ]
  },
  {
   "cell_type": "code",
   "execution_count": 21,
   "metadata": {},
   "outputs": [
    {
     "name": "stdout",
     "output_type": "stream",
     "text": [
      "esse_enum\n",
      "1.0\n",
      "0.18749999999760308\n",
      "0.187499999997603\n",
      "0.041937367688526975\n",
      "0.04193736768852696\n",
      "0.041937367687716554\n",
      "0.04193736768771655\n",
      "0.010358720735811934\n",
      "0.010358720735811925\n",
      "0.010358720710756731\n",
      "0.010358720710756723\n",
      "0.00965718868387431\n",
      "0.009657188683874307\n",
      "esse\n",
      "1.0\n",
      "0.18749999999760308\n",
      "0.187499999997603\n",
      "0.04193736768852696\n",
      "0.041937367688526975\n",
      "0.04193736768771655\n",
      "0.041937367687716554\n",
      "0.010358720735811934\n",
      "0.010358720735811925\n",
      "0.010358720710756723\n",
      "0.010358720710756731\n",
      "0.009657188683874307\n",
      "0.00965718868387431\n",
      "nise\n",
      "Finding 0th individual minima\n",
      "Finding 1th individual minima\n",
      "3th solution - importance: 0.29560428711048414\n",
      "4th solution - importance: 0.16065380296405726\n",
      "5th solution - importance: 0.045831141409951065\n",
      "6th solution - importance: 0.029487187616377683\n",
      "7th solution - importance: 0.013197910949946899\n",
      "8th solution - importance: 0.008577849381775866\n",
      "9th solution - importance: 0.005622412564970085\n",
      "10th solution - importance: 0.0025180883035538677\n",
      "11th solution - importance: 0.0008589383098177861\n",
      "12th solution - importance: 0.0008235698174176298\n",
      "13th solution - importance: 0.0002633751463559271\n",
      "14th solution - importance: 0.00012326082355615386\n",
      "15th solution - importance: 1.7513445887559764e-05\n",
      "random\n"
     ]
    }
   ],
   "source": [
    "m = 2\n",
    "#d = np.ones(M)\n",
    "d = 10*np.random.rand(m)+0.001\n",
    "s = np.array([np.random.rand()+2*i for i in range(m)])\n",
    "d = d/d.max()\n",
    "\n",
    "wscalar_ = sscalar_ = xsquared(d, s)\n",
    "bscalar_ = xsquared_ps(d, s)\n",
    "\n",
    "solsize = 15\n",
    "methods = ['esse_enum', 'esse', 'nise', 'random']\n",
    "\n",
    "objs2 = {}\n",
    "for mth in methods:\n",
    "    print(mth)\n",
    "    objs2[mth] = run(d, wscalar_, sscalar_, bscalar_, algorithm=mth)"
   ]
  },
  {
   "cell_type": "code",
   "execution_count": 22,
   "metadata": {},
   "outputs": [
    {
     "data": {
      "image/png": "[encoded data removed]",
      "text/plain": [
       "<Figure size 576x360 with 4 Axes>"
      ]
     },
     "metadata": {
      "needs_background": "light"
     },
     "output_type": "display_data"
    }
   ],
   "source": [
    "idx = 1\n",
    "fig = plt.figure(figsize=(8,5))\n",
    "\n",
    "for mth in methods:\n",
    "    ax = fig.add_subplot(2,3, idx)\n",
    "    ax.scatter(objs2[mth][:,0], objs2[mth][:,1], c='dimgrey', marker='.')\n",
    "    \n",
    "    plt.title(mth)\n",
    "    #plt.axis('equal')\n",
    "    \n",
    "    idx+=1\n",
    "\n",
    "#plt.tight_layout()\n",
    "plt.show()"
   ]
  },
  {
   "cell_type": "code",
   "execution_count": 7,
   "metadata": {},
   "outputs": [
    {
     "ename": "TypeError",
     "evalue": "exceptions must derive from BaseException",
     "output_type": "error",
     "traceback": [
      "\u001b[0;31m---------------------------------------------------------------------------\u001b[0m",
      "\u001b[0;31mTypeError\u001b[0m                                 Traceback (most recent call last)",
      "\u001b[0;32m/tmp/ipykernel_246311/2742069746.py\u001b[0m in \u001b[0;36m<module>\u001b[0;34m\u001b[0m\n\u001b[0;32m----> 1\u001b[0;31m \u001b[0;32mraise\u001b[0m\u001b[0;34m(\u001b[0m\u001b[0;34m'error'\u001b[0m\u001b[0;34m)\u001b[0m\u001b[0;34m\u001b[0m\u001b[0;34m\u001b[0m\u001b[0m\n\u001b[0m",
      "\u001b[0;31mTypeError\u001b[0m: exceptions must derive from BaseException"
     ]
    }
   ],
   "source": [
    "raise('error')"
   ]
  },
  {
   "cell_type": "markdown",
   "metadata": {
    "tags": []
   },
   "source": [
    "## Example of the problem with three dimensions"
   ]
  },
  {
   "cell_type": "code",
   "execution_count": null,
   "metadata": {},
   "outputs": [],
   "source": [
    "m = 3\n",
    "#d = np.ones(M)\n",
    "#d = np.random.rand(m)+0.001\n",
    "d = [for i in range(]\n",
    "d = d/d.max()\n",
    "\n",
    "wscalar_ = sscalar_ = xsquared(d)\n",
    "\n",
    "solsize = 150\n",
    "methods = ['monise', 'random', 'pgen', 'xnise', 'rennen']\n",
    "\n",
    "objs3 = {}\n",
    "for mth in methods:\n",
    "    objs3[mth] = run(d, wscalar_, sscalar_, algorithm=mth)"
   ]
  },
  {
   "cell_type": "code",
   "execution_count": null,
   "metadata": {},
   "outputs": [],
   "source": [
    "idx = 1\n",
    "fig = plt.figure(figsize=(8,15))\n",
    "\n",
    "for mth in methods:\n",
    "    ax = fig.add_subplot(5,2, 2*idx-1, projection='3d')\n",
    "    ax.scatter(objs3[mth][:,0], objs3[mth][:,1], objs3[mth][:,2], c='dimgrey', marker='.')\n",
    "    ax.view_init(10, -120)\n",
    "    plt.title(mth)\n",
    "    plt.axis('tight')\n",
    "\n",
    "    ax = fig.add_subplot(5,2, 2*idx, projection='3d')\n",
    "    ax.scatter(objs3[mth][:,0], objs3[mth][:,1], objs3[mth][:,2], c='dimgrey', marker='.')\n",
    "    ax.view_init(20, -20)\n",
    "    plt.title(mth)\n",
    "    plt.axis('tight')\n",
    "    idx+=1\n",
    "\n",
    "\n",
    "plt.tight_layout()\n",
    "plt.show()"
   ]
  }
 ],
 "metadata": {
  "kernelspec": {
   "display_name": "Python 3 (ipykernel)",
   "language": "python",
   "name": "python3"
  },
  "language_info": {
   "codemirror_mode": {
    "name": "ipython",
    "version": 3
   },
   "file_extension": ".py",
   "mimetype": "text/x-python",
   "name": "python",
   "nbconvert_exporter": "python",
   "pygments_lexer": "ipython3",
   "version": "3.7.4"
  }
 },
 "nbformat": 4,
 "nbformat_minor": 4
}
